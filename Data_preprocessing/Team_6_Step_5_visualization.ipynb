{
 "cells": [
  {
   "cell_type": "markdown",
   "metadata": {},
   "source": [
    "placeholder"
   ]
  },
  {
   "cell_type": "markdown",
   "metadata": {},
   "source": [
    "Notes on color pallette:\n",
    "- qualitative palettes, good for representing categorical data: sns.color_palette(\"colorblind\")\n",
    "- sequential palettes, good for representing numeric data:  Seaborn includes four perceptually uniform sequential colormaps: \"rocket\", \"mako\", \"flare\", and \"crest\". sns.color_palette(\"rocket\", as_cmap=True) or discrete sns.color_palette(\"rocket\")\n",
    "- diverging palettes, good for representing numeric data with a categorical boundary (data where both large low and high values are interesting and span a midpoint value (often 0) that should be de-emphasized) --> 'vlag' or 'icefire' sns.color_palette(\"vlag\", as_cmap=True)\n",
    "\n",
    "- Apply the default theme\n",
    "sns.set_theme()\n",
    "sns.set_style(\"whitegrid\")\n",
    "sns.color_palette(\"colorblind\")"
   ]
  },
  {
   "cell_type": "code",
   "execution_count": 8,
   "metadata": {},
   "outputs": [],
   "source": [
    "# Importing required packages and modules\n",
    "import numpy as np\n",
    "import pandas as pd\n",
    "import seaborn as sns\n",
    "import matplotlib.pyplot as plt\n",
    "from scipy.stats import pointbiserialr\n",
    "from scipy.stats import spearmanr\n",
    "\n",
    "import geopandas as gpd\n",
    "from shapely.geometry import Point\n",
    "import folium\n",
    "from IPython.display import IFrame\n",
    "import webbrowser"
   ]
  },
  {
   "cell_type": "code",
   "execution_count": 9,
   "metadata": {},
   "outputs": [],
   "source": [
    "# Overview and grouping of the datacolumns for loop later on\n",
    "numerical_columns = ['Price','price_per_sqm','price_per_sqm_land','Living_area','gardenSurface', 'terraceSurface','Number_of_facades','Number_of_bedrooms']\n",
    "categorical_columns = ['Subtype','Kitchen_type','State_of_building','epc','Postal_code','Province', 'Assigned_City']\n",
    "binary_columns = ['Swimming_Pool','Open_fire','Furnished', 'Has_Assigned_City'] # 'hasTerrace', not reliably maintained so leaving it out of analyzing/visualization"
   ]
  },
  {
   "cell_type": "markdown",
   "metadata": {},
   "source": [
    "**Generating a pandas dataframe from the source .pkl file**"
   ]
  },
  {
   "cell_type": "code",
   "execution_count": 10,
   "metadata": {},
   "outputs": [
    {
     "name": "stdout",
     "output_type": "stream",
     "text": [
      "<class 'pandas.core.frame.DataFrame'>\n",
      "Index: 4180 entries, 0 to 5923\n",
      "Data columns (total 36 columns):\n",
      " #   Column                     Non-Null Count  Dtype   \n",
      "---  ------                     --------------  -----   \n",
      " 0   id                         4180 non-null   Int64   \n",
      " 1   locality_name              4180 non-null   category\n",
      " 2   Postal_code                4180 non-null   int64   \n",
      " 3   Price                      4180 non-null   Int64   \n",
      " 4   Subtype                    4180 non-null   int64   \n",
      " 5   Number_of_bedrooms         4180 non-null   Int64   \n",
      " 6   Living_area                4180 non-null   Int64   \n",
      " 7   street                     4180 non-null   category\n",
      " 8   number                     4165 non-null   category\n",
      " 9   latitude                   4180 non-null   float64 \n",
      " 10  longitude                  4180 non-null   float64 \n",
      " 11  Open_fire                  4180 non-null   int64   \n",
      " 12  Swimming_Pool              4180 non-null   int64   \n",
      " 13  hasTerrace                 2813 non-null   object  \n",
      " 14  terraceSurface             4180 non-null   Int64   \n",
      " 15  gardenSurface              4180 non-null   Int64   \n",
      " 16  Kitchen_type               4180 non-null   int64   \n",
      " 17  Number_of_facades          4180 non-null   Int64   \n",
      " 18  State_of_building          4180 non-null   int64   \n",
      " 19  Furnished                  4180 non-null   int64   \n",
      " 20  epc                        4180 non-null   int64   \n",
      " 21  landSurface                4180 non-null   Int64   \n",
      " 22  price_per_sqm              4180 non-null   float64 \n",
      " 23  price_per_sqm_land         4180 non-null   float64 \n",
      " 24  Province                   4180 non-null   int64   \n",
      " 25  Assigned_City              4180 non-null   int64   \n",
      " 26  Has_Assigned_City          4180 non-null   int64   \n",
      " 27  Assigned_City_5            425 non-null    object  \n",
      " 28  Has_Assigned_City_5        4180 non-null   bool    \n",
      " 29  Assigned_City_10           1726 non-null   object  \n",
      " 30  Has_Assigned_City_10       4180 non-null   bool    \n",
      " 31  Assigned_City_15           3034 non-null   object  \n",
      " 32  Has_Assigned_City_15       4180 non-null   bool    \n",
      " 33  Kitchen_type_encoded       4180 non-null   int64   \n",
      " 34  State_of_building_encoded  4180 non-null   int64   \n",
      " 35  EPC_encoded                4180 non-null   int64   \n",
      "dtypes: Int64(8), bool(3), category(3), float64(4), int64(14), object(4)\n",
      "memory usage: 1.1+ MB\n"
     ]
    }
   ],
   "source": [
    "# Set options to show all columns\n",
    "pd.set_option('display.max_columns', None)\n",
    "\n",
    "# Load .pkl file and generate pandas dataframe\n",
    "input_pkl = r'..\\data\\clean\\after_step_4_correlation.pkl' # Fill your path to file\n",
    "df_1 = pd.read_pickle(input_pkl)\n",
    "\n",
    "df_1_shape = df_1.shape # Pass the shape of the dataframe to a variable for summary at end of the outlier detection and removal part\n",
    "df_1.info()"
   ]
  }
 ],
 "metadata": {
  "kernelspec": {
   "display_name": ".immoelizaml",
   "language": "python",
   "name": "python3"
  },
  "language_info": {
   "codemirror_mode": {
    "name": "ipython",
    "version": 3
   },
   "file_extension": ".py",
   "mimetype": "text/x-python",
   "name": "python",
   "nbconvert_exporter": "python",
   "pygments_lexer": "ipython3",
   "version": "3.12.6"
  }
 },
 "nbformat": 4,
 "nbformat_minor": 2
}
